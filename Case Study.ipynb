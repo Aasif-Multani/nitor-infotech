{
 "cells": [
  {
   "cell_type": "markdown",
   "metadata": {},
   "source": [
    "## Provider Eligibility Assessment\n",
    "\n",
    "- PNDS data is matched against information on professional licensing, Office of Professional Medical Care sanctions, and Medicaid and Medicare provider eligibility, to assure that only qualified providers are delivering health care to plan members. Facilities are checked for valid operating certificate numbers and that operating certificate numbers match the type of facility indicated."
   ]
  },
  {
   "cell_type": "code",
   "execution_count": 1,
   "metadata": {
    "ExecuteTime": {
     "end_time": "2019-06-07T17:07:28.668723Z",
     "start_time": "2019-06-07T17:07:22.800557Z"
    }
   },
   "outputs": [],
   "source": [
    "# Future Imports\n",
    "from __future__ import absolute_import, division, print_function, unicode_literals\n",
    "\n",
    "# Dajta Cleaning/ Wrangling\n",
    "import os\n",
    "import pandas as pd\n",
    "\n",
    "# Data Visualization\n",
    "import matplotlib.pyplot as plt\n",
    "import seaborn as sns\n",
    "%matplotlib inline\n",
    "plt.style.use('fivethirtyeight')\n",
    "\n",
    "from copy import deepcopy\n",
    "# Removing Warnings\n",
    "import warnings\n",
    "warnings.filterwarnings('ignore')"
   ]
  },
  {
   "cell_type": "code",
   "execution_count": 2,
   "metadata": {
    "ExecuteTime": {
     "end_time": "2019-06-07T17:07:39.716513Z",
     "start_time": "2019-06-07T17:07:28.726059Z"
    }
   },
   "outputs": [],
   "source": [
    "def load_dataset(filename):\n",
    "    '''\n",
    "    '''\n",
    "    dataframe = pd.read_csv(filename, dtype='unicode')\n",
    "    return dataframe\n",
    "\n",
    "df = load_dataset('NYSDOH_PNDS_IndividualProviderData_2012Q_20000_rows.csv')"
   ]
  },
  {
   "cell_type": "code",
   "execution_count": 3,
   "metadata": {
    "ExecuteTime": {
     "end_time": "2019-06-07T17:07:41.144951Z",
     "start_time": "2019-06-07T17:07:41.050451Z"
    }
   },
   "outputs": [
    {
     "data": {
      "text/html": [
       "<div>\n",
       "<style scoped>\n",
       "    .dataframe tbody tr th:only-of-type {\n",
       "        vertical-align: middle;\n",
       "    }\n",
       "\n",
       "    .dataframe tbody tr th {\n",
       "        vertical-align: top;\n",
       "    }\n",
       "\n",
       "    .dataframe thead th {\n",
       "        text-align: right;\n",
       "    }\n",
       "</style>\n",
       "<table border=\"1\" class=\"dataframe\">\n",
       "  <thead>\n",
       "    <tr style=\"text-align: right;\">\n",
       "      <th></th>\n",
       "      <th>Lname</th>\n",
       "      <th>Fname</th>\n",
       "      <th>npi</th>\n",
       "      <th>licnum</th>\n",
       "      <th>medsid</th>\n",
       "      <th>planid</th>\n",
       "      <th>sitename</th>\n",
       "      <th>rmnumber</th>\n",
       "      <th>staddres</th>\n",
       "      <th>city</th>\n",
       "      <th>...</th>\n",
       "      <th>Lang3</th>\n",
       "      <th>Lang4</th>\n",
       "      <th>Lang5</th>\n",
       "      <th>Lang6</th>\n",
       "      <th>Lang7</th>\n",
       "      <th>areacode</th>\n",
       "      <th>phone</th>\n",
       "      <th>planno</th>\n",
       "      <th>plan</th>\n",
       "      <th>subtime</th>\n",
       "    </tr>\n",
       "  </thead>\n",
       "  <tbody>\n",
       "    <tr>\n",
       "      <th>0</th>\n",
       "      <td>LIU</td>\n",
       "      <td>XIN-HUI</td>\n",
       "      <td>1245565456</td>\n",
       "      <td>946</td>\n",
       "      <td>NaN</td>\n",
       "      <td>NaN</td>\n",
       "      <td>LIU, XIN-HUI</td>\n",
       "      <td>NaN</td>\n",
       "      <td>42-11 College Point Blvd</td>\n",
       "      <td>FLUSHING</td>\n",
       "      <td>...</td>\n",
       "      <td>NaN</td>\n",
       "      <td>ZH</td>\n",
       "      <td>NaN</td>\n",
       "      <td>NaN</td>\n",
       "      <td>NaN</td>\n",
       "      <td>718</td>\n",
       "      <td>3219688</td>\n",
       "      <td>1234037</td>\n",
       "      <td>COMPREHENSIVE CARE MGMT</td>\n",
       "      <td>31MAR2012:24:00:00</td>\n",
       "    </tr>\n",
       "    <tr>\n",
       "      <th>1</th>\n",
       "      <td>DU</td>\n",
       "      <td>KEPING</td>\n",
       "      <td>1649397084</td>\n",
       "      <td>1481</td>\n",
       "      <td>NaN</td>\n",
       "      <td>NaN</td>\n",
       "      <td>DU, KEPING</td>\n",
       "      <td>NaN</td>\n",
       "      <td>193 N Wellwood Ave</td>\n",
       "      <td>LINDENHURST</td>\n",
       "      <td>...</td>\n",
       "      <td>NaN</td>\n",
       "      <td>ZH</td>\n",
       "      <td>NaN</td>\n",
       "      <td>NaN</td>\n",
       "      <td>NaN</td>\n",
       "      <td>917</td>\n",
       "      <td>2997486</td>\n",
       "      <td>1234037</td>\n",
       "      <td>COMPREHENSIVE CARE MGMT</td>\n",
       "      <td>31MAR2012:24:00:00</td>\n",
       "    </tr>\n",
       "    <tr>\n",
       "      <th>2</th>\n",
       "      <td>LI</td>\n",
       "      <td>CHANGSHENG</td>\n",
       "      <td>1154554996</td>\n",
       "      <td>2681</td>\n",
       "      <td>NaN</td>\n",
       "      <td>NaN</td>\n",
       "      <td>CHANG SHENG LI</td>\n",
       "      <td>NaN</td>\n",
       "      <td>175 KING STREET</td>\n",
       "      <td>CHAPPAGUA</td>\n",
       "      <td>...</td>\n",
       "      <td>NaN</td>\n",
       "      <td>ZH</td>\n",
       "      <td>NaN</td>\n",
       "      <td>NaN</td>\n",
       "      <td>NaN</td>\n",
       "      <td>914</td>\n",
       "      <td>2380041</td>\n",
       "      <td>1234037</td>\n",
       "      <td>COMPREHENSIVE CARE MGMT</td>\n",
       "      <td>31MAR2012:24:00:00</td>\n",
       "    </tr>\n",
       "    <tr>\n",
       "      <th>3</th>\n",
       "      <td>MOLLICA</td>\n",
       "      <td>PETER</td>\n",
       "      <td>1285683508</td>\n",
       "      <td>3105</td>\n",
       "      <td>NaN</td>\n",
       "      <td>NaN</td>\n",
       "      <td>PETER W MOLLICA.</td>\n",
       "      <td>NaN</td>\n",
       "      <td>585 Schenectady Ave..</td>\n",
       "      <td>BROOKLYN</td>\n",
       "      <td>...</td>\n",
       "      <td>NaN</td>\n",
       "      <td>NaN</td>\n",
       "      <td>NaN</td>\n",
       "      <td>NaN</td>\n",
       "      <td>NaN</td>\n",
       "      <td>718</td>\n",
       "      <td>6045388</td>\n",
       "      <td>1234037</td>\n",
       "      <td>COMPREHENSIVE CARE MGMT</td>\n",
       "      <td>31MAR2012:24:00:00</td>\n",
       "    </tr>\n",
       "    <tr>\n",
       "      <th>4</th>\n",
       "      <td>HARRIS</td>\n",
       "      <td>MARIANTHA</td>\n",
       "      <td>1275615973</td>\n",
       "      <td>3547</td>\n",
       "      <td>NaN</td>\n",
       "      <td>NaN</td>\n",
       "      <td>BRONX METRO HEALTHCARE MEDICAL PC</td>\n",
       "      <td>NaN</td>\n",
       "      <td>432 EAST 149 ST</td>\n",
       "      <td>BRONX</td>\n",
       "      <td>...</td>\n",
       "      <td>NaN</td>\n",
       "      <td>NaN</td>\n",
       "      <td>NaN</td>\n",
       "      <td>NaN</td>\n",
       "      <td>NaN</td>\n",
       "      <td>718</td>\n",
       "      <td>6187522</td>\n",
       "      <td>1234037</td>\n",
       "      <td>COMPREHENSIVE CARE MGMT</td>\n",
       "      <td>31MAR2012:24:00:00</td>\n",
       "    </tr>\n",
       "  </tbody>\n",
       "</table>\n",
       "<p>5 rows × 90 columns</p>\n",
       "</div>"
      ],
      "text/plain": [
       "     Lname       Fname         npi licnum medsid planid  \\\n",
       "0      LIU     XIN-HUI  1245565456    946    NaN    NaN   \n",
       "1       DU      KEPING  1649397084   1481    NaN    NaN   \n",
       "2       LI  CHANGSHENG  1154554996   2681    NaN    NaN   \n",
       "3  MOLLICA       PETER  1285683508   3105    NaN    NaN   \n",
       "4   HARRIS   MARIANTHA  1275615973   3547    NaN    NaN   \n",
       "\n",
       "                            sitename rmnumber                  staddres  \\\n",
       "0                       LIU, XIN-HUI      NaN  42-11 College Point Blvd   \n",
       "1                         DU, KEPING      NaN        193 N Wellwood Ave   \n",
       "2                     CHANG SHENG LI      NaN           175 KING STREET   \n",
       "3                   PETER W MOLLICA.      NaN     585 Schenectady Ave..   \n",
       "4  BRONX METRO HEALTHCARE MEDICAL PC      NaN           432 EAST 149 ST   \n",
       "\n",
       "          city  ... Lang3 Lang4 Lang5 Lang6 Lang7 areacode    phone   planno  \\\n",
       "0     FLUSHING  ...   NaN    ZH   NaN   NaN   NaN      718  3219688  1234037   \n",
       "1  LINDENHURST  ...   NaN    ZH   NaN   NaN   NaN      917  2997486  1234037   \n",
       "2    CHAPPAGUA  ...   NaN    ZH   NaN   NaN   NaN      914  2380041  1234037   \n",
       "3     BROOKLYN  ...   NaN   NaN   NaN   NaN   NaN      718  6045388  1234037   \n",
       "4        BRONX  ...   NaN   NaN   NaN   NaN   NaN      718  6187522  1234037   \n",
       "\n",
       "                      plan             subtime  \n",
       "0  COMPREHENSIVE CARE MGMT  31MAR2012:24:00:00  \n",
       "1  COMPREHENSIVE CARE MGMT  31MAR2012:24:00:00  \n",
       "2  COMPREHENSIVE CARE MGMT  31MAR2012:24:00:00  \n",
       "3  COMPREHENSIVE CARE MGMT  31MAR2012:24:00:00  \n",
       "4  COMPREHENSIVE CARE MGMT  31MAR2012:24:00:00  \n",
       "\n",
       "[5 rows x 90 columns]"
      ]
     },
     "execution_count": 3,
     "metadata": {},
     "output_type": "execute_result"
    }
   ],
   "source": [
    "# Checking the first 5 entries of the data\n",
    "df.head()"
   ]
  },
  {
   "cell_type": "code",
   "execution_count": 4,
   "metadata": {
    "ExecuteTime": {
     "end_time": "2019-06-07T17:07:42.521499Z",
     "start_time": "2019-06-07T17:07:42.513520Z"
    }
   },
   "outputs": [
    {
     "data": {
      "text/plain": [
       "(885383, 90)"
      ]
     },
     "execution_count": 4,
     "metadata": {},
     "output_type": "execute_result"
    }
   ],
   "source": [
    "df.shape"
   ]
  },
  {
   "cell_type": "code",
   "execution_count": 5,
   "metadata": {
    "ExecuteTime": {
     "end_time": "2019-06-07T17:07:56.736123Z",
     "start_time": "2019-06-07T17:07:43.852339Z"
    },
    "scrolled": true
   },
   "outputs": [
    {
     "data": {
      "text/html": [
       "<div>\n",
       "<style scoped>\n",
       "    .dataframe tbody tr th:only-of-type {\n",
       "        vertical-align: middle;\n",
       "    }\n",
       "\n",
       "    .dataframe tbody tr th {\n",
       "        vertical-align: top;\n",
       "    }\n",
       "\n",
       "    .dataframe thead th {\n",
       "        text-align: right;\n",
       "    }\n",
       "</style>\n",
       "<table border=\"1\" class=\"dataframe\">\n",
       "  <thead>\n",
       "    <tr style=\"text-align: right;\">\n",
       "      <th></th>\n",
       "      <th>count</th>\n",
       "      <th>unique</th>\n",
       "      <th>top</th>\n",
       "      <th>freq</th>\n",
       "    </tr>\n",
       "  </thead>\n",
       "  <tbody>\n",
       "    <tr>\n",
       "      <th>Lname</th>\n",
       "      <td>31499</td>\n",
       "      <td>10330</td>\n",
       "      <td>LEE</td>\n",
       "      <td>113</td>\n",
       "    </tr>\n",
       "    <tr>\n",
       "      <th>Fname</th>\n",
       "      <td>31499</td>\n",
       "      <td>5651</td>\n",
       "      <td>DAVID</td>\n",
       "      <td>458</td>\n",
       "    </tr>\n",
       "    <tr>\n",
       "      <th>npi</th>\n",
       "      <td>31499</td>\n",
       "      <td>13131</td>\n",
       "      <td>8888888888</td>\n",
       "      <td>171</td>\n",
       "    </tr>\n",
       "    <tr>\n",
       "      <th>licnum</th>\n",
       "      <td>31499</td>\n",
       "      <td>12980</td>\n",
       "      <td>162663</td>\n",
       "      <td>64</td>\n",
       "    </tr>\n",
       "    <tr>\n",
       "      <th>medsid</th>\n",
       "      <td>31185</td>\n",
       "      <td>11513</td>\n",
       "      <td>88888888</td>\n",
       "      <td>2559</td>\n",
       "    </tr>\n",
       "    <tr>\n",
       "      <th>planid</th>\n",
       "      <td>23754</td>\n",
       "      <td>15728</td>\n",
       "      <td>W38171</td>\n",
       "      <td>89</td>\n",
       "    </tr>\n",
       "    <tr>\n",
       "      <th>sitename</th>\n",
       "      <td>27127</td>\n",
       "      <td>4758</td>\n",
       "      <td>NEW YORK NETWORK MANAGEMENT</td>\n",
       "      <td>1681</td>\n",
       "    </tr>\n",
       "    <tr>\n",
       "      <th>rmnumber</th>\n",
       "      <td>6859</td>\n",
       "      <td>1098</td>\n",
       "      <td>2ND FLOOR</td>\n",
       "      <td>305</td>\n",
       "    </tr>\n",
       "    <tr>\n",
       "      <th>staddres</th>\n",
       "      <td>31499</td>\n",
       "      <td>8272</td>\n",
       "      <td>1 GUSTAVE L LEVY PL</td>\n",
       "      <td>340</td>\n",
       "    </tr>\n",
       "    <tr>\n",
       "      <th>city</th>\n",
       "      <td>31499</td>\n",
       "      <td>360</td>\n",
       "      <td>BROOKLYN</td>\n",
       "      <td>8851</td>\n",
       "    </tr>\n",
       "    <tr>\n",
       "      <th>state</th>\n",
       "      <td>31499</td>\n",
       "      <td>1</td>\n",
       "      <td>NY</td>\n",
       "      <td>31499</td>\n",
       "    </tr>\n",
       "    <tr>\n",
       "      <th>county</th>\n",
       "      <td>31499</td>\n",
       "      <td>24</td>\n",
       "      <td>47</td>\n",
       "      <td>8858</td>\n",
       "    </tr>\n",
       "    <tr>\n",
       "      <th>zip</th>\n",
       "      <td>31499</td>\n",
       "      <td>467</td>\n",
       "      <td>10029</td>\n",
       "      <td>977</td>\n",
       "    </tr>\n",
       "    <tr>\n",
       "      <th>zip4</th>\n",
       "      <td>21860</td>\n",
       "      <td>1387</td>\n",
       "      <td>0</td>\n",
       "      <td>18738</td>\n",
       "    </tr>\n",
       "    <tr>\n",
       "      <th>wheelchr</th>\n",
       "      <td>31499</td>\n",
       "      <td>2</td>\n",
       "      <td>1</td>\n",
       "      <td>27264</td>\n",
       "    </tr>\n",
       "    <tr>\n",
       "      <th>Primdesg</th>\n",
       "      <td>31499</td>\n",
       "      <td>2</td>\n",
       "      <td>2</td>\n",
       "      <td>29376</td>\n",
       "    </tr>\n",
       "    <tr>\n",
       "      <th>provtype</th>\n",
       "      <td>31499</td>\n",
       "      <td>25</td>\n",
       "      <td>1</td>\n",
       "      <td>13037</td>\n",
       "    </tr>\n",
       "    <tr>\n",
       "      <th>primspec</th>\n",
       "      <td>31499</td>\n",
       "      <td>108</td>\n",
       "      <td>800</td>\n",
       "      <td>6508</td>\n",
       "    </tr>\n",
       "    <tr>\n",
       "      <th>secdspec</th>\n",
       "      <td>31499</td>\n",
       "      <td>15</td>\n",
       "      <td>999</td>\n",
       "      <td>31415</td>\n",
       "    </tr>\n",
       "    <tr>\n",
       "      <th>brdstat</th>\n",
       "      <td>31499</td>\n",
       "      <td>5</td>\n",
       "      <td>9</td>\n",
       "      <td>14618</td>\n",
       "    </tr>\n",
       "    <tr>\n",
       "      <th>brdstat2</th>\n",
       "      <td>31499</td>\n",
       "      <td>4</td>\n",
       "      <td>2</td>\n",
       "      <td>18727</td>\n",
       "    </tr>\n",
       "    <tr>\n",
       "      <th>resattno</th>\n",
       "      <td>21251</td>\n",
       "      <td>120</td>\n",
       "      <td>999999</td>\n",
       "      <td>18727</td>\n",
       "    </tr>\n",
       "    <tr>\n",
       "      <th>resstat</th>\n",
       "      <td>31499</td>\n",
       "      <td>1</td>\n",
       "      <td>9</td>\n",
       "      <td>31499</td>\n",
       "    </tr>\n",
       "    <tr>\n",
       "      <th>resstat2</th>\n",
       "      <td>31499</td>\n",
       "      <td>1</td>\n",
       "      <td>9</td>\n",
       "      <td>31499</td>\n",
       "    </tr>\n",
       "    <tr>\n",
       "      <th>gender</th>\n",
       "      <td>31499</td>\n",
       "      <td>2</td>\n",
       "      <td>1</td>\n",
       "      <td>20841</td>\n",
       "    </tr>\n",
       "    <tr>\n",
       "      <th>phyextnd</th>\n",
       "      <td>31499</td>\n",
       "      <td>2</td>\n",
       "      <td>99.99</td>\n",
       "      <td>29376</td>\n",
       "    </tr>\n",
       "    <tr>\n",
       "      <th>commind</th>\n",
       "      <td>31499</td>\n",
       "      <td>1</td>\n",
       "      <td>0</td>\n",
       "      <td>31499</td>\n",
       "    </tr>\n",
       "    <tr>\n",
       "      <th>mcaidind</th>\n",
       "      <td>31499</td>\n",
       "      <td>1</td>\n",
       "      <td>0</td>\n",
       "      <td>31499</td>\n",
       "    </tr>\n",
       "    <tr>\n",
       "      <th>mcareind</th>\n",
       "      <td>31499</td>\n",
       "      <td>2</td>\n",
       "      <td>0</td>\n",
       "      <td>18533</td>\n",
       "    </tr>\n",
       "    <tr>\n",
       "      <th>chpind</th>\n",
       "      <td>31499</td>\n",
       "      <td>1</td>\n",
       "      <td>0</td>\n",
       "      <td>31499</td>\n",
       "    </tr>\n",
       "    <tr>\n",
       "      <th>...</th>\n",
       "      <td>...</td>\n",
       "      <td>...</td>\n",
       "      <td>...</td>\n",
       "      <td>...</td>\n",
       "    </tr>\n",
       "    <tr>\n",
       "      <th>pcappanl</th>\n",
       "      <td>29691</td>\n",
       "      <td>2</td>\n",
       "      <td>0</td>\n",
       "      <td>18727</td>\n",
       "    </tr>\n",
       "    <tr>\n",
       "      <th>mappanl</th>\n",
       "      <td>29691</td>\n",
       "      <td>4</td>\n",
       "      <td>9999</td>\n",
       "      <td>29688</td>\n",
       "    </tr>\n",
       "    <tr>\n",
       "      <th>pacepanl</th>\n",
       "      <td>29691</td>\n",
       "      <td>7</td>\n",
       "      <td>0</td>\n",
       "      <td>18727</td>\n",
       "    </tr>\n",
       "    <tr>\n",
       "      <th>fhp_bi_panl</th>\n",
       "      <td>29691</td>\n",
       "      <td>2</td>\n",
       "      <td>0</td>\n",
       "      <td>18727</td>\n",
       "    </tr>\n",
       "    <tr>\n",
       "      <th>goldpanl</th>\n",
       "      <td>29691</td>\n",
       "      <td>2</td>\n",
       "      <td>0</td>\n",
       "      <td>18727</td>\n",
       "    </tr>\n",
       "    <tr>\n",
       "      <th>slvrpanl</th>\n",
       "      <td>29691</td>\n",
       "      <td>3</td>\n",
       "      <td>0</td>\n",
       "      <td>18727</td>\n",
       "    </tr>\n",
       "    <tr>\n",
       "      <th>brnzpanl</th>\n",
       "      <td>29691</td>\n",
       "      <td>2</td>\n",
       "      <td>0</td>\n",
       "      <td>18727</td>\n",
       "    </tr>\n",
       "    <tr>\n",
       "      <th>homecare_panl</th>\n",
       "      <td>29506</td>\n",
       "      <td>2</td>\n",
       "      <td>0</td>\n",
       "      <td>18727</td>\n",
       "    </tr>\n",
       "    <tr>\n",
       "      <th>hospcert</th>\n",
       "      <td>29634</td>\n",
       "      <td>94</td>\n",
       "      <td>99999999</td>\n",
       "      <td>16696</td>\n",
       "    </tr>\n",
       "    <tr>\n",
       "      <th>pficert1</th>\n",
       "      <td>29634</td>\n",
       "      <td>93</td>\n",
       "      <td>9999</td>\n",
       "      <td>17757</td>\n",
       "    </tr>\n",
       "    <tr>\n",
       "      <th>hspcert2</th>\n",
       "      <td>28932</td>\n",
       "      <td>83</td>\n",
       "      <td>99999999</td>\n",
       "      <td>24283</td>\n",
       "    </tr>\n",
       "    <tr>\n",
       "      <th>pficert2</th>\n",
       "      <td>28914</td>\n",
       "      <td>77</td>\n",
       "      <td>9999</td>\n",
       "      <td>25018</td>\n",
       "    </tr>\n",
       "    <tr>\n",
       "      <th>hspcert3</th>\n",
       "      <td>28822</td>\n",
       "      <td>65</td>\n",
       "      <td>99999999</td>\n",
       "      <td>26695</td>\n",
       "    </tr>\n",
       "    <tr>\n",
       "      <th>pficert3</th>\n",
       "      <td>28804</td>\n",
       "      <td>57</td>\n",
       "      <td>9999</td>\n",
       "      <td>27401</td>\n",
       "    </tr>\n",
       "    <tr>\n",
       "      <th>provcert</th>\n",
       "      <td>28617</td>\n",
       "      <td>6</td>\n",
       "      <td>99999999</td>\n",
       "      <td>28605</td>\n",
       "    </tr>\n",
       "    <tr>\n",
       "      <th>provpfi</th>\n",
       "      <td>28599</td>\n",
       "      <td>2</td>\n",
       "      <td>9999</td>\n",
       "      <td>28596</td>\n",
       "    </tr>\n",
       "    <tr>\n",
       "      <th>tothours</th>\n",
       "      <td>31499</td>\n",
       "      <td>76</td>\n",
       "      <td>0</td>\n",
       "      <td>28790</td>\n",
       "    </tr>\n",
       "    <tr>\n",
       "      <th>eveind</th>\n",
       "      <td>31499</td>\n",
       "      <td>3</td>\n",
       "      <td>9</td>\n",
       "      <td>21659</td>\n",
       "    </tr>\n",
       "    <tr>\n",
       "      <th>Lang1</th>\n",
       "      <td>31499</td>\n",
       "      <td>1</td>\n",
       "      <td>EN</td>\n",
       "      <td>31499</td>\n",
       "    </tr>\n",
       "    <tr>\n",
       "      <th>Lang2</th>\n",
       "      <td>29957</td>\n",
       "      <td>64</td>\n",
       "      <td>ES</td>\n",
       "      <td>9114</td>\n",
       "    </tr>\n",
       "    <tr>\n",
       "      <th>Lang3</th>\n",
       "      <td>29237</td>\n",
       "      <td>62</td>\n",
       "      <td>99</td>\n",
       "      <td>21115</td>\n",
       "    </tr>\n",
       "    <tr>\n",
       "      <th>Lang4</th>\n",
       "      <td>28963</td>\n",
       "      <td>60</td>\n",
       "      <td>99</td>\n",
       "      <td>25083</td>\n",
       "    </tr>\n",
       "    <tr>\n",
       "      <th>Lang5</th>\n",
       "      <td>28753</td>\n",
       "      <td>50</td>\n",
       "      <td>99</td>\n",
       "      <td>26737</td>\n",
       "    </tr>\n",
       "    <tr>\n",
       "      <th>Lang6</th>\n",
       "      <td>28625</td>\n",
       "      <td>38</td>\n",
       "      <td>99</td>\n",
       "      <td>27533</td>\n",
       "    </tr>\n",
       "    <tr>\n",
       "      <th>Lang7</th>\n",
       "      <td>28623</td>\n",
       "      <td>26</td>\n",
       "      <td>99</td>\n",
       "      <td>28062</td>\n",
       "    </tr>\n",
       "    <tr>\n",
       "      <th>areacode</th>\n",
       "      <td>31499</td>\n",
       "      <td>47</td>\n",
       "      <td>718</td>\n",
       "      <td>19000</td>\n",
       "    </tr>\n",
       "    <tr>\n",
       "      <th>phone</th>\n",
       "      <td>31499</td>\n",
       "      <td>8383</td>\n",
       "      <td>9927669</td>\n",
       "      <td>445</td>\n",
       "    </tr>\n",
       "    <tr>\n",
       "      <th>planno</th>\n",
       "      <td>31499</td>\n",
       "      <td>12</td>\n",
       "      <td>2644562</td>\n",
       "      <td>20535</td>\n",
       "    </tr>\n",
       "    <tr>\n",
       "      <th>plan</th>\n",
       "      <td>31499</td>\n",
       "      <td>12</td>\n",
       "      <td>AMERIGROUP COMM CONNECTIONS</td>\n",
       "      <td>20535</td>\n",
       "    </tr>\n",
       "    <tr>\n",
       "      <th>subtime</th>\n",
       "      <td>31499</td>\n",
       "      <td>1</td>\n",
       "      <td>31MAR2012:24:00:00</td>\n",
       "      <td>31499</td>\n",
       "    </tr>\n",
       "  </tbody>\n",
       "</table>\n",
       "<p>90 rows × 4 columns</p>\n",
       "</div>"
      ],
      "text/plain": [
       "               count unique                          top   freq\n",
       "Lname          31499  10330                          LEE    113\n",
       "Fname          31499   5651                        DAVID    458\n",
       "npi            31499  13131                   8888888888    171\n",
       "licnum         31499  12980                       162663     64\n",
       "medsid         31185  11513                     88888888   2559\n",
       "planid         23754  15728                       W38171     89\n",
       "sitename       27127   4758  NEW YORK NETWORK MANAGEMENT   1681\n",
       "rmnumber        6859   1098                    2ND FLOOR    305\n",
       "staddres       31499   8272          1 GUSTAVE L LEVY PL    340\n",
       "city           31499    360                     BROOKLYN   8851\n",
       "state          31499      1                           NY  31499\n",
       "county         31499     24                           47   8858\n",
       "zip            31499    467                        10029    977\n",
       "zip4           21860   1387                            0  18738\n",
       "wheelchr       31499      2                            1  27264\n",
       "Primdesg       31499      2                            2  29376\n",
       "provtype       31499     25                            1  13037\n",
       "primspec       31499    108                          800   6508\n",
       "secdspec       31499     15                          999  31415\n",
       "brdstat        31499      5                            9  14618\n",
       "brdstat2       31499      4                            2  18727\n",
       "resattno       21251    120                       999999  18727\n",
       "resstat        31499      1                            9  31499\n",
       "resstat2       31499      1                            9  31499\n",
       "gender         31499      2                            1  20841\n",
       "phyextnd       31499      2                        99.99  29376\n",
       "commind        31499      1                            0  31499\n",
       "mcaidind       31499      1                            0  31499\n",
       "mcareind       31499      2                            0  18533\n",
       "chpind         31499      1                            0  31499\n",
       "...              ...    ...                          ...    ...\n",
       "pcappanl       29691      2                            0  18727\n",
       "mappanl        29691      4                         9999  29688\n",
       "pacepanl       29691      7                            0  18727\n",
       "fhp_bi_panl    29691      2                            0  18727\n",
       "goldpanl       29691      2                            0  18727\n",
       "slvrpanl       29691      3                            0  18727\n",
       "brnzpanl       29691      2                            0  18727\n",
       "homecare_panl  29506      2                            0  18727\n",
       "hospcert       29634     94                     99999999  16696\n",
       "pficert1       29634     93                         9999  17757\n",
       "hspcert2       28932     83                     99999999  24283\n",
       "pficert2       28914     77                         9999  25018\n",
       "hspcert3       28822     65                     99999999  26695\n",
       "pficert3       28804     57                         9999  27401\n",
       "provcert       28617      6                     99999999  28605\n",
       "provpfi        28599      2                         9999  28596\n",
       "tothours       31499     76                            0  28790\n",
       "eveind         31499      3                            9  21659\n",
       "Lang1          31499      1                           EN  31499\n",
       "Lang2          29957     64                           ES   9114\n",
       "Lang3          29237     62                           99  21115\n",
       "Lang4          28963     60                           99  25083\n",
       "Lang5          28753     50                           99  26737\n",
       "Lang6          28625     38                           99  27533\n",
       "Lang7          28623     26                           99  28062\n",
       "areacode       31499     47                          718  19000\n",
       "phone          31499   8383                      9927669    445\n",
       "planno         31499     12                      2644562  20535\n",
       "plan           31499     12  AMERIGROUP COMM CONNECTIONS  20535\n",
       "subtime        31499      1           31MAR2012:24:00:00  31499\n",
       "\n",
       "[90 rows x 4 columns]"
      ]
     },
     "execution_count": 5,
     "metadata": {},
     "output_type": "execute_result"
    }
   ],
   "source": [
    "df.describe().T"
   ]
  },
  {
   "cell_type": "markdown",
   "metadata": {},
   "source": [
    "##### Based on our problem statement, we need to select only features which will contribute in our findings. Hence, other features will be discarded."
   ]
  },
  {
   "cell_type": "code",
   "execution_count": 6,
   "metadata": {
    "ExecuteTime": {
     "end_time": "2019-06-07T17:07:59.588944Z",
     "start_time": "2019-06-07T17:07:58.034014Z"
    }
   },
   "outputs": [],
   "source": [
    "def preprocessing(data):\n",
    "    '''\n",
    "    '''\n",
    "    data2 = data[['sitename','npi', 'licnum', 'city', 'wheelchr', 'Primdesg', 'provtype', 'brdstat', 'gender']]\n",
    "    \n",
    "    data2 = data2.rename(columns={'npi': 'identification_number', 'licnum': 'license_number', 'Primdesg': 'designation', \\\n",
    "                          'provtype': 'speciality', 'brdstat': 'certification'}, copy=True)\n",
    "    \n",
    "    mappings = {'1': 'MD', '12': 'DO', '23': 'Physician Assistant (PA)', '20': 'Acupuncturist', '30': 'Audiologist', \\\n",
    "                '10': 'Chiropractor', '4': 'CSW', '5': 'Clinical Psych', '14': 'Psychologist', '15': 'Counselor', \\\n",
    "                '16': 'Social Work', '08': 'DDS', '18': 'DMD', '19': 'MS', '40': 'CDN Dietician/Nutritionist', \\\n",
    "                '2': 'CNP Nurse Practitioner', '3': 'CNM', '22': 'RN', '50': 'CM (not a nurse)', '6': 'OD Optometrist'}\n",
    "    \n",
    "    mappings2 = {'1': 'PCP', '2': 'Specialist', '3': 'PCP AND Specialist'}\n",
    "    \n",
    "    data2['designation'] = data2.designation.map(mappings2)\n",
    "    data2['speciality'] = data2.speciality.map(mappings)\n",
    "    data2['gender'] = data2.gender.map({'1': 'Male', '2': 'Female'})\n",
    "    \n",
    "    data2.dropna(axis=0, how='all', inplace=True)\n",
    "    \n",
    "    data2 = data2.astype({'identification_number': 'int64', 'license_number': 'int', 'wheelchr': 'int', 'speciality': 'int', \\\n",
    "                  'wheelchr': 'category', 'designation': 'category', 'speciality': 'category', 'certification': 'category', \\\n",
    "                  'gender': 'category'})\n",
    "    \n",
    "    return data2\n",
    "\n",
    "dataframe = preprocessing(df)"
   ]
  },
  {
   "cell_type": "code",
   "execution_count": 7,
   "metadata": {
    "ExecuteTime": {
     "end_time": "2019-06-07T17:08:01.367137Z",
     "start_time": "2019-06-07T17:08:00.961223Z"
    }
   },
   "outputs": [
    {
     "data": {
      "image/png": "[encoded data removed]",
      "text/plain": [
       "<Figure size 432x288 with 1 Axes>"
      ]
     },
     "metadata": {
      "needs_background": "light"
     },
     "output_type": "display_data"
    }
   ],
   "source": [
    "# Checking the null values \n",
    "dataframe.sitename.isnull().value_counts().plot(kind='bar', color=sns.color_palette()[2])\n",
    "plt.show()"
   ]
  },
  {
   "cell_type": "markdown",
   "metadata": {},
   "source": [
    "##### Above graph show us that we have so many sitenames that has not been recorded. We can remove the data but we will keep it in case we needed any information."
   ]
  },
  {
   "cell_type": "code",
   "execution_count": 8,
   "metadata": {
    "ExecuteTime": {
     "end_time": "2019-06-07T17:08:03.222891Z",
     "start_time": "2019-06-07T17:08:03.210922Z"
    }
   },
   "outputs": [
    {
     "data": {
      "text/plain": [
       "(31499, 9)"
      ]
     },
     "execution_count": 8,
     "metadata": {},
     "output_type": "execute_result"
    }
   ],
   "source": [
    "dataframe.shape"
   ]
  },
  {
   "cell_type": "code",
   "execution_count": 9,
   "metadata": {
    "ExecuteTime": {
     "end_time": "2019-06-07T17:08:04.774535Z",
     "start_time": "2019-06-07T17:08:04.748021Z"
    }
   },
   "outputs": [
    {
     "data": {
      "text/html": [
       "<div>\n",
       "<style scoped>\n",
       "    .dataframe tbody tr th:only-of-type {\n",
       "        vertical-align: middle;\n",
       "    }\n",
       "\n",
       "    .dataframe tbody tr th {\n",
       "        vertical-align: top;\n",
       "    }\n",
       "\n",
       "    .dataframe thead th {\n",
       "        text-align: right;\n",
       "    }\n",
       "</style>\n",
       "<table border=\"1\" class=\"dataframe\">\n",
       "  <thead>\n",
       "    <tr style=\"text-align: right;\">\n",
       "      <th></th>\n",
       "      <th>sitename</th>\n",
       "      <th>identification_number</th>\n",
       "      <th>license_number</th>\n",
       "      <th>city</th>\n",
       "      <th>wheelchr</th>\n",
       "      <th>designation</th>\n",
       "      <th>speciality</th>\n",
       "      <th>certification</th>\n",
       "      <th>gender</th>\n",
       "    </tr>\n",
       "  </thead>\n",
       "  <tbody>\n",
       "    <tr>\n",
       "      <th>0</th>\n",
       "      <td>LIU, XIN-HUI</td>\n",
       "      <td>1245565456</td>\n",
       "      <td>946</td>\n",
       "      <td>FLUSHING</td>\n",
       "      <td>1</td>\n",
       "      <td>Specialist</td>\n",
       "      <td>Acupuncturist</td>\n",
       "      <td>1</td>\n",
       "      <td>Male</td>\n",
       "    </tr>\n",
       "    <tr>\n",
       "      <th>1</th>\n",
       "      <td>DU, KEPING</td>\n",
       "      <td>1649397084</td>\n",
       "      <td>1481</td>\n",
       "      <td>LINDENHURST</td>\n",
       "      <td>1</td>\n",
       "      <td>Specialist</td>\n",
       "      <td>Acupuncturist</td>\n",
       "      <td>1</td>\n",
       "      <td>Female</td>\n",
       "    </tr>\n",
       "    <tr>\n",
       "      <th>2</th>\n",
       "      <td>CHANG SHENG LI</td>\n",
       "      <td>1154554996</td>\n",
       "      <td>2681</td>\n",
       "      <td>CHAPPAGUA</td>\n",
       "      <td>1</td>\n",
       "      <td>Specialist</td>\n",
       "      <td>Acupuncturist</td>\n",
       "      <td>2</td>\n",
       "      <td>Female</td>\n",
       "    </tr>\n",
       "    <tr>\n",
       "      <th>3</th>\n",
       "      <td>PETER W MOLLICA.</td>\n",
       "      <td>1285683508</td>\n",
       "      <td>3105</td>\n",
       "      <td>BROOKLYN</td>\n",
       "      <td>1</td>\n",
       "      <td>Specialist</td>\n",
       "      <td>NaN</td>\n",
       "      <td>1</td>\n",
       "      <td>Male</td>\n",
       "    </tr>\n",
       "    <tr>\n",
       "      <th>4</th>\n",
       "      <td>BRONX METRO HEALTHCARE MEDICAL PC</td>\n",
       "      <td>1275615973</td>\n",
       "      <td>3547</td>\n",
       "      <td>BRONX</td>\n",
       "      <td>0</td>\n",
       "      <td>Specialist</td>\n",
       "      <td>Physician Assistant (PA)</td>\n",
       "      <td>1</td>\n",
       "      <td>Female</td>\n",
       "    </tr>\n",
       "  </tbody>\n",
       "</table>\n",
       "</div>"
      ],
      "text/plain": [
       "                            sitename  identification_number  license_number  \\\n",
       "0                       LIU, XIN-HUI             1245565456             946   \n",
       "1                         DU, KEPING             1649397084            1481   \n",
       "2                     CHANG SHENG LI             1154554996            2681   \n",
       "3                   PETER W MOLLICA.             1285683508            3105   \n",
       "4  BRONX METRO HEALTHCARE MEDICAL PC             1275615973            3547   \n",
       "\n",
       "          city wheelchr designation                speciality certification  \\\n",
       "0     FLUSHING        1  Specialist             Acupuncturist             1   \n",
       "1  LINDENHURST        1  Specialist             Acupuncturist             1   \n",
       "2    CHAPPAGUA        1  Specialist             Acupuncturist             2   \n",
       "3     BROOKLYN        1  Specialist                       NaN             1   \n",
       "4        BRONX        0  Specialist  Physician Assistant (PA)             1   \n",
       "\n",
       "   gender  \n",
       "0    Male  \n",
       "1  Female  \n",
       "2  Female  \n",
       "3    Male  \n",
       "4  Female  "
      ]
     },
     "execution_count": 9,
     "metadata": {},
     "output_type": "execute_result"
    }
   ],
   "source": [
    "dataframe.head()"
   ]
  },
  {
   "cell_type": "code",
   "execution_count": 10,
   "metadata": {
    "ExecuteTime": {
     "end_time": "2019-06-07T17:08:06.214584Z",
     "start_time": "2019-06-07T17:08:06.156278Z"
    }
   },
   "outputs": [
    {
     "name": "stdout",
     "output_type": "stream",
     "text": [
      "<class 'pandas.core.frame.DataFrame'>\n",
      "Int64Index: 31499 entries, 0 to 31498\n",
      "Data columns (total 9 columns):\n",
      "sitename                 27127 non-null object\n",
      "identification_number    31499 non-null int64\n",
      "license_number           31499 non-null int32\n",
      "city                     31499 non-null object\n",
      "wheelchr                 31499 non-null category\n",
      "designation              31499 non-null category\n",
      "speciality               19582 non-null category\n",
      "certification            31499 non-null category\n",
      "gender                   31499 non-null category\n",
      "dtypes: category(5), int32(1), int64(1), object(2)\n",
      "memory usage: 1.2+ MB\n"
     ]
    }
   ],
   "source": [
    "dataframe.info()"
   ]
  },
  {
   "cell_type": "markdown",
   "metadata": {
    "collapsed": true
   },
   "source": [
    "## Data Exploration"
   ]
  },
  {
   "cell_type": "code",
   "execution_count": 11,
   "metadata": {
    "ExecuteTime": {
     "end_time": "2019-06-07T17:08:07.855678Z",
     "start_time": "2019-06-07T17:08:07.571557Z"
    }
   },
   "outputs": [
    {
     "data": {
      "image/png": "[encoded data removed]",
      "text/plain": [
       "<Figure size 576x360 with 1 Axes>"
      ]
     },
     "metadata": {
      "needs_background": "light"
     },
     "output_type": "display_data"
    }
   ],
   "source": [
    "# Checking the top cities which has service providers\n",
    "plt.figure(figsize=(8,5))\n",
    "dataframe.city.value_counts()[0:11].plot(kind = 'bar', width = 0.9, cmap='summer')\n",
    "plt.title('Top Cities which has most service providers')\n",
    "plt.show()"
   ]
  },
  {
   "cell_type": "code",
   "execution_count": 12,
   "metadata": {
    "ExecuteTime": {
     "end_time": "2019-06-07T17:08:09.846702Z",
     "start_time": "2019-06-07T17:08:09.442298Z"
    }
   },
   "outputs": [
    {
     "data": {
      "image/png": "[encoded data removed]",
      "text/plain": [
       "<Figure size 648x360 with 1 Axes>"
      ]
     },
     "metadata": {
      "needs_background": "light"
     },
     "output_type": "display_data"
    }
   ],
   "source": [
    "## Checking the top 10 service providers\n",
    "plt.figure(figsize = (9,5))\n",
    "dataframe.sitename.value_counts()[0:11].plot(kind = 'bar', width = 0.9, cmap = 'RdYlGn')\n",
    "plt.title(\"Top 10 service providers\")\n",
    "plt.show()"
   ]
  },
  {
   "cell_type": "code",
   "execution_count": 13,
   "metadata": {
    "ExecuteTime": {
     "end_time": "2019-06-07T17:08:11.504030Z",
     "start_time": "2019-06-07T17:08:11.291705Z"
    }
   },
   "outputs": [
    {
     "data": {
      "image/png": "[encoded data removed]",
      "text/plain": [
       "<Figure size 432x288 with 1 Axes>"
      ]
     },
     "metadata": {
      "needs_background": "light"
     },
     "output_type": "display_data"
    }
   ],
   "source": [
    "## Checking the most speciality providers\n",
    "dataframe.speciality.value_counts()[0:6].plot.bar(width = 0.9, cmap = 'rainbow')\n",
    "plt.show()"
   ]
  },
  {
   "cell_type": "code",
   "execution_count": 14,
   "metadata": {
    "ExecuteTime": {
     "end_time": "2019-06-07T17:08:13.254000Z",
     "start_time": "2019-06-07T17:08:13.002024Z"
    }
   },
   "outputs": [
    {
     "data": {
      "image/png": "[encoded data removed]",
      "text/plain": [
       "<Figure size 432x288 with 1 Axes>"
      ]
     },
     "metadata": {
      "needs_background": "light"
     },
     "output_type": "display_data"
    }
   ],
   "source": [
    "## Checking the most primary designation\n",
    "dataframe.designation.value_counts().plot(kind = 'bar', width = 0.7, color=sns.color_palette()[3])\n",
    "plt.title(\"The most primary designation\")\n",
    "plt.show()"
   ]
  },
  {
   "cell_type": "code",
   "execution_count": 15,
   "metadata": {
    "ExecuteTime": {
     "end_time": "2019-06-07T17:08:14.893100Z",
     "start_time": "2019-06-07T17:08:14.705389Z"
    }
   },
   "outputs": [
    {
     "data": {
      "image/png": "[encoded data removed]",
      "text/plain": [
       "<Figure size 432x288 with 1 Axes>"
      ]
     },
     "metadata": {
      "needs_background": "light"
     },
     "output_type": "display_data"
    }
   ],
   "source": [
    "dataframe.gender.value_counts().plot(kind='bar', color=sns.color_palette()[5])\n",
    "plt.title(\"Gender\")\n",
    "plt.show()"
   ]
  }
 ],
 "metadata": {
  "kernelspec": {
   "display_name": "Python 3",
   "language": "python",
   "name": "python3"
  },
  "language_info": {
   "codemirror_mode": {
    "name": "ipython",
    "version": 3
   },
   "file_extension": ".py",
   "mimetype": "text/x-python",
   "name": "python",
   "nbconvert_exporter": "python",
   "pygments_lexer": "ipython3",
   "version": "3.7.3"
  },
  "varInspector": {
   "cols": {
    "lenName": 16,
    "lenType": 16,
    "lenVar": 40
   },
   "kernels_config": {
    "python": {
     "delete_cmd_postfix": "",
     "delete_cmd_prefix": "del ",
     "library": "var_list.py",
     "varRefreshCmd": "print(var_dic_list())"
    },
    "r": {
     "delete_cmd_postfix": ") ",
     "delete_cmd_prefix": "rm(",
     "library": "var_list.r",
     "varRefreshCmd": "cat(var_dic_list()) "
    }
   },
   "types_to_exclude": [
    "module",
    "function",
    "builtin_function_or_method",
    "instance",
    "_Feature"
   ],
   "window_display": false
  }
 },
 "nbformat": 4,
 "nbformat_minor": 1
}
